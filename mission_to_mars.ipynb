{
 "cells": [
  {
   "cell_type": "code",
   "execution_count": 1,
   "id": "closed-safety",
   "metadata": {},
   "outputs": [],
   "source": [
    "from splinter import Browser\n",
    "from bs4 import BeautifulSoup\n",
    "from webdriver_manager.chrome import ChromeDriverManager\n",
    "import requests\n",
    "import pymongo"
   ]
  },
  {
   "cell_type": "code",
   "execution_count": 2,
   "id": "genetic-creativity",
   "metadata": {},
   "outputs": [
    {
     "name": "stderr",
     "output_type": "stream",
     "text": [
      "\n",
      "\n",
      "====== WebDriver manager ======\n",
      "Current google-chrome version is 90.0.4430\n",
      "Get LATEST driver version for 90.0.4430\n",
      "Get LATEST driver version for 90.0.4430\n",
      "Trying to download new driver from https://chromedriver.storage.googleapis.com/90.0.4430.24/chromedriver_mac64.zip\n",
      "Driver has been saved in cache [/Users/gregorymaginn/.wdm/drivers/chromedriver/mac64/90.0.4430.24]\n"
     ]
    }
   ],
   "source": [
    "space_news_url = 'https://redplanetscience.com/'\n",
    "\n",
    "\n",
    "executable_path = {'executable_path': ChromeDriverManager().install()}\n",
    "browser = Browser('chrome', **executable_path, headless=False)\n"
   ]
  },
  {
   "cell_type": "code",
   "execution_count": 3,
   "id": "moving-worker",
   "metadata": {},
   "outputs": [],
   "source": [
    "browser.visit(space_news_url)\n",
    "\n",
    "html = browser.html\n",
    "\n",
    "\n",
    "html = browser.html\n",
    "soup = BeautifulSoup(html, 'html.parser')"
   ]
  },
  {
   "cell_type": "code",
   "execution_count": null,
   "id": "strong-superior",
   "metadata": {},
   "outputs": [],
   "source": []
  },
  {
   "cell_type": "code",
   "execution_count": 4,
   "id": "compound-acceptance",
   "metadata": {},
   "outputs": [
    {
     "name": "stdout",
     "output_type": "stream",
     "text": [
      "While Stargazing on Mars, NASA's Curiosity Rover Spots Earth and Venus\n",
      "This new portrait of the Red Planet's neighbors was taken during a time when there's more dust in the air on Mars.\n"
     ]
    }
   ],
   "source": [
    "results = soup.find_all('div', class_=\"list_text\")\n",
    "\n",
    "for result in results:\n",
    "    news_title = result.find('div', class_='content_title').text\n",
    "    news_p = result.find('div', class_='article_teaser_body').text\n",
    "    break\n",
    "\n",
    "print(news_title)\n",
    "print(news_p)"
   ]
  },
  {
   "cell_type": "code",
   "execution_count": 8,
   "id": "statutory-burke",
   "metadata": {},
   "outputs": [
    {
     "name": "stdout",
     "output_type": "stream",
     "text": [
      "image/featured/mars3.jpg\n"
     ]
    }
   ],
   "source": [
    "space_image_url = 'https://spaceimages-mars.com/'\n",
    "\n",
    "browser.visit(space_image_url)\n",
    "\n",
    "\n",
    "html = browser.html\n",
    "soup = BeautifulSoup(html, 'html.parser')\n",
    "\n",
    "results2 = soup.find_all('div', class_='header')\n",
    "\n",
    "for result in results2:\n",
    "    mars_img = result.find('img', class_=\"headerimage fade-in\")['src']\n",
    "\n",
    "print(mars_img)"
   ]
  },
  {
   "cell_type": "code",
   "execution_count": null,
   "id": "amber-fifth",
   "metadata": {},
   "outputs": [],
   "source": []
  },
  {
   "cell_type": "code",
   "execution_count": 9,
   "id": "increased-validation",
   "metadata": {},
   "outputs": [],
   "source": [
    "mars_facts_url = 'https://galaxyfacts-mars.com/'\n",
    "\n",
    "browser.visit(mars_facts_url)\n",
    "\n",
    "\n",
    "html = browser.html\n",
    "soup = BeautifulSoup(html, 'html.parser')"
   ]
  },
  {
   "cell_type": "code",
   "execution_count": 10,
   "id": "medieval-demonstration",
   "metadata": {},
   "outputs": [
    {
     "name": "stdout",
     "output_type": "stream",
     "text": [
      "[<table class=\"table table-striped\">\n",
      "<tbody>\n",
      "<tr>\n",
      "<th scope=\"row\">Equatorial Diameter:</th>\n",
      "<td>6,792 km</td>\n",
      "</tr>\n",
      "<tr>\n",
      "<th scope=\"row\">Polar Diameter:</th>\n",
      "<td>6,752 km</td>\n",
      "</tr>\n",
      "<tr>\n",
      "<th scope=\"row\">Mass:</th>\n",
      "<td>\t6.39 × 10^23 kg (0.11 Earths)</td>\n",
      "</tr>\n",
      "<tr>\n",
      "<th scope=\"row\">Moons:</th>\n",
      "<td>\t2 ( <span class=\"red\">Phobos </span> &amp; <span class=\"red\"> Deimos </span>)</td>\n",
      "</tr>\n",
      "<tr>\n",
      "<th scope=\"row\">Orbit Distance:</th>\n",
      "<td>\t227,943,824 km (1.38 AU)</td>\n",
      "</tr>\n",
      "<tr>\n",
      "<th scope=\"row\">Orbit Period:</th>\n",
      "<td>\t687 days (1.9 years)</td>\n",
      "</tr>\n",
      "<tr>\n",
      "<th scope=\"row\">Surface Temperature:</th>\n",
      "<td>\t-87 to -5 °C</td>\n",
      "</tr>\n",
      "<tr>\n",
      "<th scope=\"row\">First Record:</th>\n",
      "<td>\t2nd millennium BC</td>\n",
      "</tr>\n",
      "<tr>\n",
      "<th scope=\"row\">Recorded By:</th>\n",
      "<td>\tEgyptian astronomers</td>\n",
      "</tr>\n",
      "</tbody>\n",
      "</table>]\n"
     ]
    }
   ],
   "source": [
    "#Visit the Mars Facts webpage here and use Pandas to scrape the table containing facts about\n",
    "#the planet including Diameter, Mass, etc.\n",
    "\n",
    "\n",
    "\n",
    "results3 = soup.find_all('table', class_=\"table table-striped\")\n",
    "\n",
    "print(results3)"
   ]
  },
  {
   "cell_type": "code",
   "execution_count": null,
   "id": "generous-project",
   "metadata": {},
   "outputs": [],
   "source": []
  }
 ],
 "metadata": {
  "kernelspec": {
   "display_name": "Python [conda env:PythonData] *",
   "language": "python",
   "name": "conda-env-PythonData-py"
  },
  "language_info": {
   "codemirror_mode": {
    "name": "ipython",
    "version": 3
   },
   "file_extension": ".py",
   "mimetype": "text/x-python",
   "name": "python",
   "nbconvert_exporter": "python",
   "pygments_lexer": "ipython3",
   "version": "3.6.10"
  }
 },
 "nbformat": 4,
 "nbformat_minor": 5
}
