{
 "cells": [
  {
   "cell_type": "code",
   "execution_count": 1,
   "id": "closed-safety",
   "metadata": {},
   "outputs": [],
   "source": [
    "from splinter import Browser\n",
    "from bs4 import BeautifulSoup\n",
    "from webdriver_manager.chrome import ChromeDriverManager\n",
    "import requests\n",
    "import pymongo"
   ]
  },
  {
   "cell_type": "code",
   "execution_count": 2,
   "id": "genetic-creativity",
   "metadata": {},
   "outputs": [
    {
     "name": "stderr",
     "output_type": "stream",
     "text": [
      "\n",
      "\n",
      "====== WebDriver manager ======\n",
      "Current google-chrome version is 90.0.4430\n",
      "Get LATEST driver version for 90.0.4430\n",
      "Driver [/Users/gregorymaginn/.wdm/drivers/chromedriver/mac64/90.0.4430.24/chromedriver] found in cache\n"
     ]
    }
   ],
   "source": [
    "space_news_url = 'https://redplanetscience.com/'\n",
    "\n",
    "\n",
    "executable_path = {'executable_path': ChromeDriverManager().install()}\n",
    "browser = Browser('chrome', **executable_path, headless=False)\n"
   ]
  },
  {
   "cell_type": "code",
   "execution_count": 3,
   "id": "moving-worker",
   "metadata": {},
   "outputs": [],
   "source": [
    "browser.visit(space_news_url)\n",
    "\n",
    "html = browser.html\n",
    "\n",
    "\n",
    "html = browser.html\n",
    "soup = BeautifulSoup(html, 'html.parser')"
   ]
  },
  {
   "cell_type": "code",
   "execution_count": null,
   "id": "strong-superior",
   "metadata": {},
   "outputs": [],
   "source": []
  },
  {
   "cell_type": "code",
   "execution_count": 4,
   "id": "compound-acceptance",
   "metadata": {},
   "outputs": [
    {
     "name": "stdout",
     "output_type": "stream",
     "text": [
      "NASA InSight's 'Mole' Is Out of Sight\n",
      "Now that the heat probe is just below the Martian surface, InSight's arm will scoop some additional soil on top to help it keep digging so it can take Mars' temperature.\n"
     ]
    }
   ],
   "source": [
    "results = soup.find_all('div', class_=\"list_text\")\n",
    "\n",
    "for result in results:\n",
    "    news_title = result.find('div', class_='content_title').text\n",
    "    news_p = result.find('div', class_='article_teaser_body').text\n",
    "    break\n",
    "\n",
    "print(news_title)\n",
    "print(news_p)"
   ]
  },
  {
   "cell_type": "code",
   "execution_count": 5,
   "id": "statutory-burke",
   "metadata": {},
   "outputs": [
    {
     "name": "stdout",
     "output_type": "stream",
     "text": [
      "image/featured/mars3.jpg\n"
     ]
    }
   ],
   "source": [
    "space_image_url = 'https://spaceimages-mars.com/'\n",
    "\n",
    "browser.visit(space_image_url)\n",
    "\n",
    "\n",
    "html = browser.html\n",
    "soup = BeautifulSoup(html, 'html.parser')\n",
    "\n",
    "results2 = soup.find_all('div', class_='header')\n",
    "\n",
    "for result in results2:\n",
    "    mars_img = result.find('img', class_=\"headerimage fade-in\")['src']\n",
    "\n",
    "print(mars_img)"
   ]
  },
  {
   "cell_type": "code",
   "execution_count": null,
   "id": "amber-fifth",
   "metadata": {},
   "outputs": [],
   "source": []
  },
  {
   "cell_type": "code",
   "execution_count": 6,
   "id": "increased-validation",
   "metadata": {},
   "outputs": [],
   "source": [
    "mars_facts_url = 'https://galaxyfacts-mars.com/'\n",
    "\n",
    "browser.visit(mars_facts_url)\n",
    "\n",
    "\n",
    "html = browser.html\n",
    "soup = BeautifulSoup(html, 'html.parser')"
   ]
  },
  {
   "cell_type": "code",
   "execution_count": 7,
   "id": "medieval-demonstration",
   "metadata": {},
   "outputs": [
    {
     "name": "stdout",
     "output_type": "stream",
     "text": [
      "[<table class=\"table table-striped\">\n",
      "<tbody>\n",
      "<tr>\n",
      "<th scope=\"row\">Equatorial Diameter:</th>\n",
      "<td>6,792 km</td>\n",
      "</tr>\n",
      "<tr>\n",
      "<th scope=\"row\">Polar Diameter:</th>\n",
      "<td>6,752 km</td>\n",
      "</tr>\n",
      "<tr>\n",
      "<th scope=\"row\">Mass:</th>\n",
      "<td>\t6.39 × 10^23 kg (0.11 Earths)</td>\n",
      "</tr>\n",
      "<tr>\n",
      "<th scope=\"row\">Moons:</th>\n",
      "<td>\t2 ( <span class=\"red\">Phobos </span> &amp; <span class=\"red\"> Deimos </span>)</td>\n",
      "</tr>\n",
      "<tr>\n",
      "<th scope=\"row\">Orbit Distance:</th>\n",
      "<td>\t227,943,824 km (1.38 AU)</td>\n",
      "</tr>\n",
      "<tr>\n",
      "<th scope=\"row\">Orbit Period:</th>\n",
      "<td>\t687 days (1.9 years)</td>\n",
      "</tr>\n",
      "<tr>\n",
      "<th scope=\"row\">Surface Temperature:</th>\n",
      "<td>\t-87 to -5 °C</td>\n",
      "</tr>\n",
      "<tr>\n",
      "<th scope=\"row\">First Record:</th>\n",
      "<td>\t2nd millennium BC</td>\n",
      "</tr>\n",
      "<tr>\n",
      "<th scope=\"row\">Recorded By:</th>\n",
      "<td>\tEgyptian astronomers</td>\n",
      "</tr>\n",
      "</tbody>\n",
      "</table>]\n"
     ]
    }
   ],
   "source": [
    "#Visit the Mars Facts webpage here and use Pandas to scrape the table containing facts about\n",
    "#the planet including Diameter, Mass, etc.\n",
    "\n",
    "\n",
    "\n",
    "results3 = soup.find_all('table', class_=\"table table-striped\")\n",
    "\n",
    "print(results3)"
   ]
  },
  {
   "cell_type": "code",
   "execution_count": 8,
   "id": "generous-project",
   "metadata": {},
   "outputs": [],
   "source": [
    "hemi_url = 'https://marshemispheres.com/'\n",
    "\n",
    "browser.visit(hemi_url)\n",
    "\n",
    "\n",
    "html = browser.html\n",
    "soup = BeautifulSoup(html, 'html.parser')\n",
    "\n"
   ]
  },
  {
   "cell_type": "code",
   "execution_count": 9,
   "id": "supposed-acceptance",
   "metadata": {},
   "outputs": [
    {
     "name": "stdout",
     "output_type": "stream",
     "text": [
      "4\n"
     ]
    }
   ],
   "source": [
    "hemis = browser.find_by_css('a.product-item img')\n",
    "print(len(hemis))"
   ]
  },
  {
   "cell_type": "code",
   "execution_count": 26,
   "id": "appropriate-extent",
   "metadata": {},
   "outputs": [
    {
     "name": "stdout",
     "output_type": "stream",
     "text": [
      "<splinter.element_list.ElementList object at 0x7fdd615e7cf8>\n",
      "{'title': 'Cerberus Hemisphere Enhanced', 'img_url': <splinter.element_list.ElementList object at 0x7fdd622c7cc0>}\n",
      "<splinter.element_list.ElementList object at 0x7fdd615e7cf8>\n",
      "{'title': 'Schiaparelli Hemisphere Enhanced', 'img_url': <splinter.element_list.ElementList object at 0x7fdd622c7a20>}\n",
      "<splinter.element_list.ElementList object at 0x7fdd615e7cf8>\n",
      "{'title': 'Syrtis Major Hemisphere Enhanced', 'img_url': <splinter.element_list.ElementList object at 0x7fdd622c7c88>}\n",
      "<splinter.element_list.ElementList object at 0x7fdd615e7cf8>\n",
      "{'title': 'Valles Marineris Hemisphere Enhanced', 'img_url': <splinter.element_list.ElementList object at 0x7fdd622c7ef0>}\n"
     ]
    }
   ],
   "source": [
    "hemi_urls = []\n",
    "hemi_img = {}\n",
    "page_urls = []\n",
    "\n",
    "i = 0 \n",
    "#runs through all four of the links\n",
    "while i < 4:\n",
    "    #runs through each hemi page\n",
    "    for hemi in hemis:\n",
    "        ##print(i, hemi)\n",
    "        #finds page based on i\n",
    "        browser.find_by_css('a.product-item img')[i].click()\n",
    "        \n",
    "        #stores title of page\n",
    "        hemi_titles = browser.find_by_css('h2.title').text\n",
    "        print(hemi_title)\n",
    "        \n",
    "        #stores image\n",
    "        url = browser.find_by_css('li.href')\n",
    "       \n",
    "        #adds title and image url to hemi_img dic\n",
    "        hemi_img['title'] = hemi_titles\n",
    "        hemi_img['img_url'] = url\n",
    "        print(hemi_img)\n",
    "        \n",
    "        #store page info on img\n",
    "        page_urls.append(hemi_img)\n",
    "        \n",
    "        #return to previous page\n",
    "        browser.back()\n",
    "        \n",
    "        i = i+1 \n",
    "        \n"
   ]
  },
  {
   "cell_type": "code",
   "execution_count": 27,
   "id": "documented-sixth",
   "metadata": {},
   "outputs": [
    {
     "data": {
      "text/plain": [
       "[{'title': 'Valles Marineris Hemisphere Enhanced',\n",
       "  'img_url': <splinter.element_list.ElementList at 0x7fdd622c7ef0>},\n",
       " {'title': 'Valles Marineris Hemisphere Enhanced',\n",
       "  'img_url': <splinter.element_list.ElementList at 0x7fdd622c7ef0>},\n",
       " {'title': 'Valles Marineris Hemisphere Enhanced',\n",
       "  'img_url': <splinter.element_list.ElementList at 0x7fdd622c7ef0>},\n",
       " {'title': 'Valles Marineris Hemisphere Enhanced',\n",
       "  'img_url': <splinter.element_list.ElementList at 0x7fdd622c7ef0>}]"
      ]
     },
     "execution_count": 27,
     "metadata": {},
     "output_type": "execute_result"
    }
   ],
   "source": [
    "page_urls"
   ]
  },
  {
   "cell_type": "code",
   "execution_count": null,
   "id": "selected-arthur",
   "metadata": {},
   "outputs": [],
   "source": []
  }
 ],
 "metadata": {
  "kernelspec": {
   "display_name": "Python [conda env:PythonData] *",
   "language": "python",
   "name": "conda-env-PythonData-py"
  },
  "language_info": {
   "codemirror_mode": {
    "name": "ipython",
    "version": 3
   },
   "file_extension": ".py",
   "mimetype": "text/x-python",
   "name": "python",
   "nbconvert_exporter": "python",
   "pygments_lexer": "ipython3",
   "version": "3.6.10"
  }
 },
 "nbformat": 4,
 "nbformat_minor": 5
}
